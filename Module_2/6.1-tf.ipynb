{
 "cells": [
  {
   "cell_type": "markdown",
   "metadata": {
    "nbgrader": {
     "grade": false,
     "grade_id": "cell-a405f9c797c90edb",
     "locked": true,
     "schema_version": 3,
     "solution": false,
     "task": false
    }
   },
   "source": [
    "# TensorFlow Checkpoint\n",
    "\n",
    "This assessment covers building and training a `tf.keras` `Sequential` model, then applying regularization.  The dataset comes from a [\"don't overfit\" Kaggle competition](https://www.kaggle.com/c/dont-overfit-ii).  There are 300 features labeled 0-299, and a binary target called \"target\".  There are only 250 records total, meaning this is a very small dataset to be used with a neural network. \n",
    "\n",
    "_You can assume that the dataset has already been scaled._\n",
    "\n",
    "N.B. You may get comments from keras/ternsorflow regarding your kernel and runtime. These are completely normal and are informative comments, rather than warnings."
   ]
  },
  {
   "cell_type": "code",
   "execution_count": 1,
   "metadata": {
    "ExecuteTime": {
     "end_time": "2020-11-04T16:46:28.793582Z",
     "start_time": "2020-11-04T16:46:24.326301Z"
    },
    "nbgrader": {
     "grade": false,
     "grade_id": "cell-4ab18aba8319e5bb",
     "locked": true,
     "schema_version": 3,
     "solution": false,
     "task": false
    }
   },
   "outputs": [],
   "source": [
    "# Run this cell without changes\n",
    "\n",
    "import matplotlib.pyplot as plt\n",
    "import seaborn as sns\n",
    "\n",
    "import numpy as np\n",
    "import pandas as pd\n",
    "from sklearn.metrics import accuracy_score\n",
    "from sklearn.model_selection import train_test_split\n",
    "\n",
    "import tensorflow as tf\n",
    "from tensorflow.keras import Sequential, regularizers\n",
    "from tensorflow.keras.layers import Dense, Dropout\n",
    "from tensorflow.keras.wrappers.scikit_learn import KerasClassifier"
   ]
  },
  {
   "cell_type": "markdown",
   "metadata": {
    "nbgrader": {
     "grade": false,
     "grade_id": "cell-c7b992c89bbf7019",
     "locked": true,
     "schema_version": 3,
     "solution": false,
     "task": false
    }
   },
   "source": [
    "## 1) Prepare Data for Modeling\n",
    "\n",
    "* Using `pandas`, open the file `data.csv` as a DataFrame\n",
    "* Drop the `\"id\"` column, since this is a unique identifier and not a feature\n",
    "* Separate the data into `X` (a DataFrame with all columns except `\"target\"`) and `y` (a Series with just the `\"target\"` column)\n",
    "* The train-test split should work as-is once you create these variables"
   ]
  },
  {
   "cell_type": "code",
   "execution_count": 2,
   "metadata": {
    "nbgrader": {
     "grade": false,
     "grade_id": "cell-d01723acad72a02e",
     "locked": false,
     "schema_version": 3,
     "solution": true,
     "task": false
    }
   },
   "outputs": [],
   "source": [
    "# Replace None with appropriate code\n",
    "\n",
    "# Read in the data\n",
    "df = pd.read_csv('data.csv')\n",
    "\n",
    "# Drop the \"id\" column\n",
    "df.drop('id', axis=1, inplace=True)\n",
    "\n",
    "# Separate into X and y\n",
    "X = df.drop('target', axis=1)\n",
    "y = df['target']\n",
    "\n",
    "# Test/train split (set the random state to 2021) and check the X_Train shape\n",
    "X_train, X_test, y_train, y_test = train_test_split(X, y, random_state=2021)"
   ]
  },
  {
   "cell_type": "code",
   "execution_count": 3,
   "metadata": {},
   "outputs": [],
   "source": [
    "# Run this code block without any changes\n",
    "\n",
    "# Assert\n",
    "\n",
    "assert type(df) == pd.DataFrame\n",
    "assert type(X) == pd.DataFrame\n",
    "assert type(y) == pd.Series\n",
    "\n",
    "assert X_train.shape == (187, 300)\n",
    "assert y_train.shape == (187,)"
   ]
  },
  {
   "cell_type": "markdown",
   "metadata": {
    "nbgrader": {
     "grade": false,
     "grade_id": "cell-2aa2425f887ac9b0",
     "locked": true,
     "schema_version": 3,
     "solution": false,
     "task": false
    }
   },
   "source": [
    "## 2) Instantiate a `Sequential` Model\n",
    "\n",
    "In the cell below, create an instance of a `Sequential` model ([documentation here](https://keras.io/guides/sequential_model/)) called `dense_model` with a `name` of `\"dense\"` and otherwise default arguments.\n",
    "\n",
    "*In other words, create a model without any layers. We will add layers in a future step.*"
   ]
  },
  {
   "cell_type": "code",
   "execution_count": 4,
   "metadata": {
    "nbgrader": {
     "grade": false,
     "grade_id": "cell-6c7980c4f4e802ae",
     "locked": false,
     "schema_version": 3,
     "solution": true,
     "task": false
    }
   },
   "outputs": [],
   "source": [
    "# Replace None with appropriate code\n",
    "\n",
    "dense_model = Sequential(name='dense')"
   ]
  },
  {
   "cell_type": "code",
   "execution_count": 5,
   "metadata": {
    "nbgrader": {
     "grade": true,
     "grade_id": "cell-4019299c1abee581",
     "locked": true,
     "points": 1,
     "schema_version": 3,
     "solution": false,
     "task": false
    }
   },
   "outputs": [],
   "source": [
    "# Run this code without change\n",
    "\n",
    "# Assert\n",
    "\n",
    "assert len(dense_model.layers) == 0\n",
    "assert type(dense_model) == Sequential\n",
    "assert dense_model.name == \"dense\"\n"
   ]
  },
  {
   "cell_type": "markdown",
   "metadata": {
    "nbgrader": {
     "grade": false,
     "grade_id": "cell-b777879670a57fbf",
     "locked": true,
     "schema_version": 3,
     "solution": false,
     "task": false
    }
   },
   "source": [
    "## 3) Determine Input and Output Shapes\n",
    "\n",
    "How many input and output nodes should this model have?\n",
    "\n",
    "Feel free to explore the attributes of `X` and `y` to determine this answer, or just to enter numbers based on the problem description above."
   ]
  },
  {
   "cell_type": "code",
   "execution_count": 6,
   "metadata": {
    "nbgrader": {
     "grade": false,
     "grade_id": "cell-63ba55e28070fbb7",
     "locked": false,
     "schema_version": 3,
     "solution": true,
     "task": false
    }
   },
   "outputs": [],
   "source": [
    "# Replace None with appropriate code\n",
    "\n",
    "num_input_nodes = 300\n",
    "num_output_nodes = 1"
   ]
  },
  {
   "cell_type": "code",
   "execution_count": 7,
   "metadata": {
    "nbgrader": {
     "grade": true,
     "grade_id": "cell-f10eae123c0da13e",
     "locked": true,
     "points": 1,
     "schema_version": 3,
     "solution": false,
     "task": false
    }
   },
   "outputs": [
    {
     "data": {
      "text/plain": [
       "1.0"
      ]
     },
     "execution_count": 7,
     "metadata": {},
     "output_type": "execute_result"
    }
   ],
   "source": [
    "# Run this code without change\n",
    "\n",
    "# Both values should be integers\n",
    "assert type(num_input_nodes) == int\n",
    "assert type(num_output_nodes) == int\n",
    "\n",
    "score = 0\n",
    "\n",
    "# 300 features, so 300 input nodes\n",
    "if num_input_nodes == 300:\n",
    "    score += 0.5\n",
    "    \n",
    "# binary output, so 1 output node\n",
    "if num_output_nodes == 1:\n",
    "    score += 0.5\n",
    "elif num_output_nodes == 2:\n",
    "    # Partial credit for this answer, since it's technically\n",
    "    # possible to use 2 output nodes for this, although it's\n",
    "    # confusingly redundant\n",
    "    score += 0.25\n",
    "\n",
    "score"
   ]
  },
  {
   "cell_type": "markdown",
   "metadata": {
    "nbgrader": {
     "grade": false,
     "grade_id": "cell-1a3c44e684a51352",
     "locked": true,
     "schema_version": 3,
     "solution": false,
     "task": false
    }
   },
   "source": [
    "The code below will use the input and output shapes you specified to add `Dense` layers to the model:"
   ]
  },
  {
   "cell_type": "code",
   "execution_count": 8,
   "metadata": {},
   "outputs": [
    {
     "data": {
      "text/plain": [
       "[<tensorflow.python.keras.layers.core.Dense at 0x24e9893a0a0>,\n",
       " <tensorflow.python.keras.layers.core.Dense at 0x24e9893a130>,\n",
       " <tensorflow.python.keras.layers.core.Dense at 0x24e98988b50>]"
      ]
     },
     "execution_count": 8,
     "metadata": {},
     "output_type": "execute_result"
    }
   ],
   "source": [
    "# Run this cell without changes\n",
    "\n",
    "# Add input layer\n",
    "dense_model.add(Dense(units=64, input_shape=(num_input_nodes,)))\n",
    "\n",
    "# Add hidden layers\n",
    "dense_model.add(Dense(units=64))\n",
    "dense_model.add(Dense(units=64))\n",
    "\n",
    "dense_model.layers"
   ]
  },
  {
   "cell_type": "markdown",
   "metadata": {
    "nbgrader": {
     "grade": false,
     "grade_id": "cell-8505e21901e1e252",
     "locked": true,
     "schema_version": 3,
     "solution": false,
     "task": false
    }
   },
   "source": [
    "## 4) Add an Output Layer\n",
    "\n",
    "Specify an appropriate activation function ([documentation here](https://keras.io/api/layers/activations/)).\n",
    "\n",
    "We'll simplify the problem by specifying that you should use the string identifier for the function, and it should be one of these options:\n",
    "\n",
    "* `sigmoid`\n",
    "* `softmax`\n",
    "\n",
    "***Hint:*** is this a binary or a multi-class problem? This should guide your choice of activation function."
   ]
  },
  {
   "cell_type": "code",
   "execution_count": 9,
   "metadata": {
    "nbgrader": {
     "grade": false,
     "grade_id": "cell-0aeea3d8ccac319e",
     "locked": false,
     "schema_version": 3,
     "solution": true,
     "task": false
    }
   },
   "outputs": [],
   "source": [
    "# Replace None with appropriate code\n",
    "\n",
    "activation_function = 'sigmoid'"
   ]
  },
  {
   "cell_type": "code",
   "execution_count": 10,
   "metadata": {
    "nbgrader": {
     "grade": true,
     "grade_id": "cell-332525f03472a594",
     "locked": true,
     "points": 1,
     "schema_version": 3,
     "solution": false,
     "task": false
    }
   },
   "outputs": [],
   "source": [
    "# Run this cell without changes\n",
    "\n",
    "# activation_function should be a string\n",
    "assert type(activation_function) == str\n",
    "\n",
    "if num_output_nodes == 1:\n",
    "    assert activation_function == \"sigmoid\"\n",
    "else:\n",
    "    # The number of output nodes _should_ be 1, but we'll\n",
    "    # give credit for a matching function even if the\n",
    "    # previous answer was incorrect\n",
    "    assert activation_function == \"softmax\""
   ]
  },
  {
   "cell_type": "markdown",
   "metadata": {
    "nbgrader": {
     "grade": false,
     "grade_id": "cell-5c793011c6345392",
     "locked": true,
     "schema_version": 3,
     "solution": false,
     "task": false
    }
   },
   "source": [
    "Now we'll use that information to finalize the model.\n",
    "\n",
    "If this code produces an error, consider restarting the kernel and re-running the code above. If it still produces an error, that is an indication that one or more of your answers above is incorrect."
   ]
  },
  {
   "cell_type": "code",
   "execution_count": 11,
   "metadata": {
    "nbgrader": {
     "grade": false,
     "grade_id": "cell-e04042f44ccb24bb",
     "locked": true,
     "schema_version": 3,
     "solution": false,
     "task": false
    }
   },
   "outputs": [
    {
     "name": "stdout",
     "output_type": "stream",
     "text": [
      "Model: \"dense\"\n",
      "_________________________________________________________________\n",
      "Layer (type)                 Output Shape              Param #   \n",
      "=================================================================\n",
      "dense (Dense)                (None, 64)                19264     \n",
      "_________________________________________________________________\n",
      "dense_1 (Dense)              (None, 64)                4160      \n",
      "_________________________________________________________________\n",
      "dense_2 (Dense)              (None, 64)                4160      \n",
      "_________________________________________________________________\n",
      "dense_3 (Dense)              (None, 1)                 65        \n",
      "=================================================================\n",
      "Total params: 27,649\n",
      "Trainable params: 27,649\n",
      "Non-trainable params: 0\n",
      "_________________________________________________________________\n"
     ]
    }
   ],
   "source": [
    "# Run this cell without changes\n",
    "\n",
    "# Add output layer\n",
    "dense_model.add(Dense(units=num_output_nodes, activation=activation_function))\n",
    "\n",
    "# Determine appropriate loss function\n",
    "if num_output_nodes == 1:\n",
    "    loss = \"binary_crossentropy\"\n",
    "else:\n",
    "    loss = \"categorical_crossentropy\"\n",
    "\n",
    "# Compile model\n",
    "dense_model.compile(\n",
    "    optimizer=\"adam\",\n",
    "    loss=loss,\n",
    "    metrics=[\"accuracy\"]\n",
    ")\n",
    "\n",
    "dense_model.summary()"
   ]
  },
  {
   "cell_type": "code",
   "execution_count": 12,
   "metadata": {
    "nbgrader": {
     "grade": false,
     "grade_id": "cell-d54efbf306c08d85",
     "locked": true,
     "schema_version": 3,
     "solution": false,
     "task": false
    }
   },
   "outputs": [
    {
     "name": "stdout",
     "output_type": "stream",
     "text": [
      "Epoch 1/100\n",
      "6/6 [==============================] - 0s 29ms/step - loss: 0.9606 - accuracy: 0.5000 - val_loss: 0.9466 - val_accuracy: 0.4267\n",
      "Epoch 2/100\n",
      "6/6 [==============================] - 0s 6ms/step - loss: 0.4412 - accuracy: 0.8125 - val_loss: 0.9092 - val_accuracy: 0.4533\n",
      "Epoch 3/100\n",
      "6/6 [==============================] - 0s 5ms/step - loss: 0.2969 - accuracy: 0.9375 - val_loss: 0.9645 - val_accuracy: 0.4667\n",
      "Epoch 4/100\n",
      "6/6 [==============================] - 0s 4ms/step - loss: 0.1905 - accuracy: 0.9643 - val_loss: 1.0805 - val_accuracy: 0.5200\n",
      "Epoch 5/100\n",
      "6/6 [==============================] - 0s 3ms/step - loss: 0.1176 - accuracy: 0.9821 - val_loss: 1.2141 - val_accuracy: 0.4933\n",
      "Epoch 6/100\n",
      "6/6 [==============================] - 0s 4ms/step - loss: 0.0615 - accuracy: 1.0000 - val_loss: 1.3488 - val_accuracy: 0.4933\n",
      "Epoch 7/100\n",
      "6/6 [==============================] - 0s 8ms/step - loss: 0.0341 - accuracy: 1.0000 - val_loss: 1.4769 - val_accuracy: 0.4933\n",
      "Epoch 8/100\n",
      "6/6 [==============================] - 0s 5ms/step - loss: 0.0197 - accuracy: 1.0000 - val_loss: 1.5911 - val_accuracy: 0.4800\n",
      "Epoch 9/100\n",
      "6/6 [==============================] - 0s 8ms/step - loss: 0.0123 - accuracy: 1.0000 - val_loss: 1.6884 - val_accuracy: 0.4933\n",
      "Epoch 10/100\n",
      "6/6 [==============================] - 0s 6ms/step - loss: 0.0087 - accuracy: 1.0000 - val_loss: 1.7658 - val_accuracy: 0.4933\n",
      "Epoch 11/100\n",
      "6/6 [==============================] - 0s 5ms/step - loss: 0.0060 - accuracy: 1.0000 - val_loss: 1.8290 - val_accuracy: 0.4933\n",
      "Epoch 12/100\n",
      "6/6 [==============================] - 0s 5ms/step - loss: 0.0047 - accuracy: 1.0000 - val_loss: 1.8823 - val_accuracy: 0.5067\n",
      "Epoch 13/100\n",
      "6/6 [==============================] - 0s 6ms/step - loss: 0.0037 - accuracy: 1.0000 - val_loss: 1.9255 - val_accuracy: 0.5067\n",
      "Epoch 14/100\n",
      "6/6 [==============================] - 0s 5ms/step - loss: 0.0031 - accuracy: 1.0000 - val_loss: 1.9628 - val_accuracy: 0.5067\n",
      "Epoch 15/100\n",
      "6/6 [==============================] - 0s 7ms/step - loss: 0.0027 - accuracy: 1.0000 - val_loss: 1.9956 - val_accuracy: 0.5067\n",
      "Epoch 16/100\n",
      "6/6 [==============================] - 0s 7ms/step - loss: 0.0023 - accuracy: 1.0000 - val_loss: 2.0244 - val_accuracy: 0.5067\n",
      "Epoch 17/100\n",
      "6/6 [==============================] - 0s 5ms/step - loss: 0.0021 - accuracy: 1.0000 - val_loss: 2.0505 - val_accuracy: 0.5067\n",
      "Epoch 18/100\n",
      "6/6 [==============================] - 0s 6ms/step - loss: 0.0019 - accuracy: 1.0000 - val_loss: 2.0739 - val_accuracy: 0.5067\n",
      "Epoch 19/100\n",
      "6/6 [==============================] - 0s 5ms/step - loss: 0.0017 - accuracy: 1.0000 - val_loss: 2.0966 - val_accuracy: 0.5067\n",
      "Epoch 20/100\n",
      "6/6 [==============================] - 0s 4ms/step - loss: 0.0015 - accuracy: 1.0000 - val_loss: 2.1178 - val_accuracy: 0.5067\n",
      "Epoch 21/100\n",
      "6/6 [==============================] - 0s 6ms/step - loss: 0.0014 - accuracy: 1.0000 - val_loss: 2.1379 - val_accuracy: 0.5333\n",
      "Epoch 22/100\n",
      "6/6 [==============================] - 0s 6ms/step - loss: 0.0013 - accuracy: 1.0000 - val_loss: 2.1570 - val_accuracy: 0.5333\n",
      "Epoch 23/100\n",
      "6/6 [==============================] - 0s 3ms/step - loss: 0.0012 - accuracy: 1.0000 - val_loss: 2.1754 - val_accuracy: 0.5333\n",
      "Epoch 24/100\n",
      "6/6 [==============================] - 0s 4ms/step - loss: 0.0011 - accuracy: 1.0000 - val_loss: 2.1937 - val_accuracy: 0.5333\n",
      "Epoch 25/100\n",
      "6/6 [==============================] - 0s 4ms/step - loss: 0.0011 - accuracy: 1.0000 - val_loss: 2.2109 - val_accuracy: 0.5333\n",
      "Epoch 26/100\n",
      "6/6 [==============================] - 0s 6ms/step - loss: 9.7928e-04 - accuracy: 1.0000 - val_loss: 2.2273 - val_accuracy: 0.5333\n",
      "Epoch 27/100\n",
      "6/6 [==============================] - 0s 3ms/step - loss: 9.1971e-04 - accuracy: 1.0000 - val_loss: 2.2437 - val_accuracy: 0.5333\n",
      "Epoch 28/100\n",
      "6/6 [==============================] - 0s 4ms/step - loss: 8.6323e-04 - accuracy: 1.0000 - val_loss: 2.2596 - val_accuracy: 0.5333\n",
      "Epoch 29/100\n",
      "6/6 [==============================] - 0s 5ms/step - loss: 8.1220e-04 - accuracy: 1.0000 - val_loss: 2.2751 - val_accuracy: 0.5333\n",
      "Epoch 30/100\n",
      "6/6 [==============================] - 0s 4ms/step - loss: 7.6182e-04 - accuracy: 1.0000 - val_loss: 2.2898 - val_accuracy: 0.5467\n",
      "Epoch 31/100\n",
      "6/6 [==============================] - 0s 4ms/step - loss: 7.2095e-04 - accuracy: 1.0000 - val_loss: 2.3043 - val_accuracy: 0.5467\n",
      "Epoch 32/100\n",
      "6/6 [==============================] - 0s 3ms/step - loss: 6.8036e-04 - accuracy: 1.0000 - val_loss: 2.3179 - val_accuracy: 0.5467\n",
      "Epoch 33/100\n",
      "6/6 [==============================] - 0s 4ms/step - loss: 6.4374e-04 - accuracy: 1.0000 - val_loss: 2.3307 - val_accuracy: 0.5467\n",
      "Epoch 34/100\n",
      "6/6 [==============================] - 0s 3ms/step - loss: 6.1100e-04 - accuracy: 1.0000 - val_loss: 2.3440 - val_accuracy: 0.5467\n",
      "Epoch 35/100\n",
      "6/6 [==============================] - 0s 6ms/step - loss: 5.7968e-04 - accuracy: 1.0000 - val_loss: 2.3567 - val_accuracy: 0.5467\n",
      "Epoch 36/100\n",
      "6/6 [==============================] - 0s 4ms/step - loss: 5.5311e-04 - accuracy: 1.0000 - val_loss: 2.3694 - val_accuracy: 0.5467\n",
      "Epoch 37/100\n",
      "6/6 [==============================] - 0s 3ms/step - loss: 5.2563e-04 - accuracy: 1.0000 - val_loss: 2.3813 - val_accuracy: 0.5467\n",
      "Epoch 38/100\n",
      "6/6 [==============================] - 0s 4ms/step - loss: 5.0218e-04 - accuracy: 1.0000 - val_loss: 2.3927 - val_accuracy: 0.5467\n",
      "Epoch 39/100\n",
      "6/6 [==============================] - 0s 3ms/step - loss: 4.7922e-04 - accuracy: 1.0000 - val_loss: 2.4041 - val_accuracy: 0.5467\n",
      "Epoch 40/100\n",
      "6/6 [==============================] - 0s 4ms/step - loss: 4.5808e-04 - accuracy: 1.0000 - val_loss: 2.4150 - val_accuracy: 0.5467\n",
      "Epoch 41/100\n",
      "6/6 [==============================] - 0s 3ms/step - loss: 4.3884e-04 - accuracy: 1.0000 - val_loss: 2.4255 - val_accuracy: 0.5467\n",
      "Epoch 42/100\n",
      "6/6 [==============================] - 0s 4ms/step - loss: 4.2005e-04 - accuracy: 1.0000 - val_loss: 2.4361 - val_accuracy: 0.5467\n",
      "Epoch 43/100\n",
      "6/6 [==============================] - 0s 4ms/step - loss: 4.0306e-04 - accuracy: 1.0000 - val_loss: 2.4467 - val_accuracy: 0.5467\n",
      "Epoch 44/100\n",
      "6/6 [==============================] - 0s 4ms/step - loss: 3.8675e-04 - accuracy: 1.0000 - val_loss: 2.4575 - val_accuracy: 0.5600\n",
      "Epoch 45/100\n",
      "6/6 [==============================] - 0s 6ms/step - loss: 3.7075e-04 - accuracy: 1.0000 - val_loss: 2.4676 - val_accuracy: 0.5600\n",
      "Epoch 46/100\n",
      "6/6 [==============================] - 0s 8ms/step - loss: 3.5636e-04 - accuracy: 1.0000 - val_loss: 2.4773 - val_accuracy: 0.5600\n",
      "Epoch 47/100\n",
      "6/6 [==============================] - 0s 4ms/step - loss: 3.4252e-04 - accuracy: 1.0000 - val_loss: 2.4868 - val_accuracy: 0.5600\n",
      "Epoch 48/100\n",
      "6/6 [==============================] - 0s 6ms/step - loss: 3.2986e-04 - accuracy: 1.0000 - val_loss: 2.4959 - val_accuracy: 0.5600\n",
      "Epoch 49/100\n",
      "6/6 [==============================] - 0s 5ms/step - loss: 3.1776e-04 - accuracy: 1.0000 - val_loss: 2.5050 - val_accuracy: 0.5600\n",
      "Epoch 50/100\n",
      "6/6 [==============================] - 0s 5ms/step - loss: 3.0646e-04 - accuracy: 1.0000 - val_loss: 2.5146 - val_accuracy: 0.5600\n",
      "Epoch 51/100\n",
      "6/6 [==============================] - 0s 5ms/step - loss: 2.9564e-04 - accuracy: 1.0000 - val_loss: 2.5235 - val_accuracy: 0.5600\n",
      "Epoch 52/100\n",
      "6/6 [==============================] - 0s 4ms/step - loss: 2.8519e-04 - accuracy: 1.0000 - val_loss: 2.5323 - val_accuracy: 0.5600\n",
      "Epoch 53/100\n",
      "6/6 [==============================] - 0s 4ms/step - loss: 2.7531e-04 - accuracy: 1.0000 - val_loss: 2.5410 - val_accuracy: 0.5600\n",
      "Epoch 54/100\n",
      "6/6 [==============================] - 0s 6ms/step - loss: 2.6629e-04 - accuracy: 1.0000 - val_loss: 2.5498 - val_accuracy: 0.5600\n",
      "Epoch 55/100\n",
      "6/6 [==============================] - 0s 5ms/step - loss: 2.5691e-04 - accuracy: 1.0000 - val_loss: 2.5581 - val_accuracy: 0.5600\n",
      "Epoch 56/100\n",
      "6/6 [==============================] - 0s 4ms/step - loss: 2.4884e-04 - accuracy: 1.0000 - val_loss: 2.5665 - val_accuracy: 0.5600\n",
      "Epoch 57/100\n",
      "6/6 [==============================] - 0s 7ms/step - loss: 2.4102e-04 - accuracy: 1.0000 - val_loss: 2.5748 - val_accuracy: 0.5600\n",
      "Epoch 58/100\n"
     ]
    },
    {
     "name": "stdout",
     "output_type": "stream",
     "text": [
      "6/6 [==============================] - 0s 6ms/step - loss: 2.3317e-04 - accuracy: 1.0000 - val_loss: 2.5830 - val_accuracy: 0.5600\n",
      "Epoch 59/100\n",
      "6/6 [==============================] - 0s 4ms/step - loss: 2.2611e-04 - accuracy: 1.0000 - val_loss: 2.5908 - val_accuracy: 0.5733\n",
      "Epoch 60/100\n",
      "6/6 [==============================] - 0s 3ms/step - loss: 2.1928e-04 - accuracy: 1.0000 - val_loss: 2.5984 - val_accuracy: 0.5733\n",
      "Epoch 61/100\n",
      "6/6 [==============================] - 0s 3ms/step - loss: 2.1250e-04 - accuracy: 1.0000 - val_loss: 2.6057 - val_accuracy: 0.5733\n",
      "Epoch 62/100\n",
      "6/6 [==============================] - 0s 3ms/step - loss: 2.0656e-04 - accuracy: 1.0000 - val_loss: 2.6131 - val_accuracy: 0.5733\n",
      "Epoch 63/100\n",
      "6/6 [==============================] - 0s 3ms/step - loss: 2.0068e-04 - accuracy: 1.0000 - val_loss: 2.6202 - val_accuracy: 0.5733\n",
      "Epoch 64/100\n",
      "6/6 [==============================] - 0s 6ms/step - loss: 1.9481e-04 - accuracy: 1.0000 - val_loss: 2.6274 - val_accuracy: 0.5733\n",
      "Epoch 65/100\n",
      "6/6 [==============================] - 0s 3ms/step - loss: 1.8934e-04 - accuracy: 1.0000 - val_loss: 2.6345 - val_accuracy: 0.5733\n",
      "Epoch 66/100\n",
      "6/6 [==============================] - 0s 6ms/step - loss: 1.8398e-04 - accuracy: 1.0000 - val_loss: 2.6414 - val_accuracy: 0.5733\n",
      "Epoch 67/100\n",
      "6/6 [==============================] - 0s 5ms/step - loss: 1.7903e-04 - accuracy: 1.0000 - val_loss: 2.6486 - val_accuracy: 0.5733\n",
      "Epoch 68/100\n",
      "6/6 [==============================] - 0s 5ms/step - loss: 1.7413e-04 - accuracy: 1.0000 - val_loss: 2.6558 - val_accuracy: 0.5733\n",
      "Epoch 69/100\n",
      "6/6 [==============================] - 0s 4ms/step - loss: 1.6937e-04 - accuracy: 1.0000 - val_loss: 2.6626 - val_accuracy: 0.5733\n",
      "Epoch 70/100\n",
      "6/6 [==============================] - 0s 4ms/step - loss: 1.6482e-04 - accuracy: 1.0000 - val_loss: 2.6692 - val_accuracy: 0.5733\n",
      "Epoch 71/100\n",
      "6/6 [==============================] - 0s 4ms/step - loss: 1.6057e-04 - accuracy: 1.0000 - val_loss: 2.6758 - val_accuracy: 0.5733\n",
      "Epoch 72/100\n",
      "6/6 [==============================] - 0s 5ms/step - loss: 1.5636e-04 - accuracy: 1.0000 - val_loss: 2.6824 - val_accuracy: 0.5733\n",
      "Epoch 73/100\n",
      "6/6 [==============================] - 0s 4ms/step - loss: 1.5245e-04 - accuracy: 1.0000 - val_loss: 2.6886 - val_accuracy: 0.5733\n",
      "Epoch 74/100\n",
      "6/6 [==============================] - 0s 4ms/step - loss: 1.4866e-04 - accuracy: 1.0000 - val_loss: 2.6949 - val_accuracy: 0.5733\n",
      "Epoch 75/100\n",
      "6/6 [==============================] - 0s 5ms/step - loss: 1.4499e-04 - accuracy: 1.0000 - val_loss: 2.7015 - val_accuracy: 0.5733\n",
      "Epoch 76/100\n",
      "6/6 [==============================] - 0s 7ms/step - loss: 1.4139e-04 - accuracy: 1.0000 - val_loss: 2.7077 - val_accuracy: 0.5733\n",
      "Epoch 77/100\n",
      "6/6 [==============================] - 0s 7ms/step - loss: 1.3794e-04 - accuracy: 1.0000 - val_loss: 2.7140 - val_accuracy: 0.5733\n",
      "Epoch 78/100\n",
      "6/6 [==============================] - 0s 9ms/step - loss: 1.3470e-04 - accuracy: 1.0000 - val_loss: 2.7200 - val_accuracy: 0.5733\n",
      "Epoch 79/100\n",
      "6/6 [==============================] - 0s 8ms/step - loss: 1.3142e-04 - accuracy: 1.0000 - val_loss: 2.7260 - val_accuracy: 0.5733\n",
      "Epoch 80/100\n",
      "6/6 [==============================] - 0s 6ms/step - loss: 1.2840e-04 - accuracy: 1.0000 - val_loss: 2.7319 - val_accuracy: 0.5733\n",
      "Epoch 81/100\n",
      "6/6 [==============================] - 0s 6ms/step - loss: 1.2538e-04 - accuracy: 1.0000 - val_loss: 2.7379 - val_accuracy: 0.5733\n",
      "Epoch 82/100\n",
      "6/6 [==============================] - 0s 6ms/step - loss: 1.2262e-04 - accuracy: 1.0000 - val_loss: 2.7439 - val_accuracy: 0.5733\n",
      "Epoch 83/100\n",
      "6/6 [==============================] - 0s 6ms/step - loss: 1.1972e-04 - accuracy: 1.0000 - val_loss: 2.7496 - val_accuracy: 0.5733\n",
      "Epoch 84/100\n",
      "6/6 [==============================] - 0s 6ms/step - loss: 1.1711e-04 - accuracy: 1.0000 - val_loss: 2.7553 - val_accuracy: 0.5733\n",
      "Epoch 85/100\n",
      "6/6 [==============================] - 0s 5ms/step - loss: 1.1451e-04 - accuracy: 1.0000 - val_loss: 2.7609 - val_accuracy: 0.5733\n",
      "Epoch 86/100\n",
      "6/6 [==============================] - 0s 6ms/step - loss: 1.1203e-04 - accuracy: 1.0000 - val_loss: 2.7663 - val_accuracy: 0.5733\n",
      "Epoch 87/100\n",
      "6/6 [==============================] - 0s 5ms/step - loss: 1.0959e-04 - accuracy: 1.0000 - val_loss: 2.7718 - val_accuracy: 0.5733\n",
      "Epoch 88/100\n",
      "6/6 [==============================] - 0s 5ms/step - loss: 1.0741e-04 - accuracy: 1.0000 - val_loss: 2.7772 - val_accuracy: 0.5733\n",
      "Epoch 89/100\n",
      "6/6 [==============================] - 0s 5ms/step - loss: 1.0506e-04 - accuracy: 1.0000 - val_loss: 2.7823 - val_accuracy: 0.5733\n",
      "Epoch 90/100\n",
      "6/6 [==============================] - 0s 5ms/step - loss: 1.0288e-04 - accuracy: 1.0000 - val_loss: 2.7874 - val_accuracy: 0.5733\n",
      "Epoch 91/100\n",
      "6/6 [==============================] - 0s 5ms/step - loss: 1.0084e-04 - accuracy: 1.0000 - val_loss: 2.7925 - val_accuracy: 0.5733\n",
      "Epoch 92/100\n",
      "6/6 [==============================] - 0s 5ms/step - loss: 9.8744e-05 - accuracy: 1.0000 - val_loss: 2.7977 - val_accuracy: 0.5733\n",
      "Epoch 93/100\n",
      "6/6 [==============================] - 0s 5ms/step - loss: 9.6825e-05 - accuracy: 1.0000 - val_loss: 2.8027 - val_accuracy: 0.5733\n",
      "Epoch 94/100\n",
      "6/6 [==============================] - 0s 5ms/step - loss: 9.4817e-05 - accuracy: 1.0000 - val_loss: 2.8078 - val_accuracy: 0.5733\n",
      "Epoch 95/100\n",
      "6/6 [==============================] - 0s 5ms/step - loss: 9.2857e-05 - accuracy: 1.0000 - val_loss: 2.8129 - val_accuracy: 0.5733\n",
      "Epoch 96/100\n",
      "6/6 [==============================] - 0s 9ms/step - loss: 9.1062e-05 - accuracy: 1.0000 - val_loss: 2.8178 - val_accuracy: 0.5733\n",
      "Epoch 97/100\n",
      "6/6 [==============================] - 0s 9ms/step - loss: 8.9344e-05 - accuracy: 1.0000 - val_loss: 2.8227 - val_accuracy: 0.5733\n",
      "Epoch 98/100\n",
      "6/6 [==============================] - 0s 6ms/step - loss: 8.7587e-05 - accuracy: 1.0000 - val_loss: 2.8276 - val_accuracy: 0.5733\n",
      "Epoch 99/100\n",
      "6/6 [==============================] - 0s 4ms/step - loss: 8.5896e-05 - accuracy: 1.0000 - val_loss: 2.8326 - val_accuracy: 0.5733\n",
      "Epoch 100/100\n",
      "6/6 [==============================] - 0s 4ms/step - loss: 8.4298e-05 - accuracy: 1.0000 - val_loss: 2.8375 - val_accuracy: 0.5733\n"
     ]
    }
   ],
   "source": [
    "# Replace None as necessary\n",
    "\n",
    "# Fit the model to the training data, using a subset of the\n",
    "# training data as validation data\n",
    "dense_model_results = dense_model.fit(\n",
    "    x=X_train,\n",
    "    y=y_train,\n",
    "    batch_size=20,\n",
    "    epochs=100,\n",
    "    verbose=1,\n",
    "    validation_split=0.4,\n",
    "    shuffle=True\n",
    ")"
   ]
  },
  {
   "cell_type": "code",
   "execution_count": 13,
   "metadata": {
    "nbgrader": {
     "grade": false,
     "grade_id": "cell-0639b5c80e98ab40",
     "locked": true,
     "schema_version": 3,
     "solution": false,
     "task": false
    }
   },
   "outputs": [
    {
     "data": {
      "image/png": "[encoded data removed]",
      "text/plain": [
       "<Figure size 720x360 with 2 Axes>"
      ]
     },
     "metadata": {
      "needs_background": "light"
     },
     "output_type": "display_data"
    }
   ],
   "source": [
    "# Run this cell without changes\n",
    "\n",
    "def plot_loss_and_accuracy(results, final=False):\n",
    "    \n",
    "    if final:\n",
    "        val_label=\"test\"\n",
    "    else:\n",
    "        val_label=\"validation\"\n",
    "\n",
    "    # Extracting metrics from model fitting\n",
    "    train_loss = results.history['loss']\n",
    "    val_loss = results.history['val_loss']\n",
    "    train_accuracy = results.history['accuracy']\n",
    "    val_accuracy = results.history['val_accuracy']\n",
    "\n",
    "    # Setting up plots\n",
    "    fig, (ax1, ax2) = plt.subplots(1, 2, figsize=(10, 5))\n",
    "\n",
    "    # Plotting loss info\n",
    "    ax1.set_title(\"Loss\")\n",
    "    sns.lineplot(x=results.epoch, y=train_loss, ax=ax1, label=\"train\")\n",
    "    sns.lineplot(x=results.epoch, y=val_loss, ax=ax1, label=val_label)\n",
    "    ax1.legend()\n",
    "\n",
    "    # Plotting accuracy info\n",
    "    ax2.set_title(\"Accuracy\")\n",
    "    sns.lineplot(x=results.epoch, y=train_accuracy, ax=ax2, label=\"train\")\n",
    "    sns.lineplot(x=results.epoch, y=val_accuracy, ax=ax2, label=val_label)\n",
    "    ax2.legend()\n",
    "    \n",
    "plot_loss_and_accuracy(dense_model_results)"
   ]
  },
  {
   "cell_type": "markdown",
   "metadata": {
    "nbgrader": {
     "grade": false,
     "grade_id": "cell-3ee94fdb73f6a0bd",
     "locked": true,
     "schema_version": 3,
     "solution": false,
     "task": false
    }
   },
   "source": [
    "## 5) Modify the Code Below to Use Regularization\n",
    "\n",
    "\n",
    "The model appears to be overfitting. To deal with this overfitting, modify the code below to include regularization in the model. You can add L1, L2, both L1 and L2, or dropout regularization.\n",
    "\n",
    "Hint: these might be helpful\n",
    "\n",
    " - [`Dense` layer documentation](https://keras.io/api/layers/core_layers/dense/)\n",
    " - [`regularizers` documentation](https://keras.io/regularizers/)\n",
    " \n",
    "(`EarlyStopping` is a type of regularization that is not applicable to this problem framing, since it's a callback and not a layer.)"
   ]
  },
  {
   "cell_type": "code",
   "execution_count": 57,
   "metadata": {
    "ExecuteTime": {
     "end_time": "2020-11-04T16:48:46.721530Z",
     "start_time": "2020-11-04T16:48:46.715001Z"
    },
    "nbgrader": {
     "grade": false,
     "grade_id": "cell-143a65663b1d4c26",
     "locked": false,
     "schema_version": 3,
     "solution": true,
     "task": false
    }
   },
   "outputs": [
    {
     "name": "stdout",
     "output_type": "stream",
     "text": [
      "Model: \"regularized\"\n",
      "_________________________________________________________________\n",
      "Layer (type)                 Output Shape              Param #   \n",
      "=================================================================\n",
      "dense_60 (Dense)             (None, 64)                19264     \n",
      "_________________________________________________________________\n",
      "dense_61 (Dense)             (None, 64)                4160      \n",
      "_________________________________________________________________\n",
      "dense_62 (Dense)             (None, 64)                4160      \n",
      "_________________________________________________________________\n",
      "dense_63 (Dense)             (None, 1)                 65        \n",
      "=================================================================\n",
      "Total params: 27,649\n",
      "Trainable params: 27,649\n",
      "Non-trainable params: 0\n",
      "_________________________________________________________________\n"
     ]
    }
   ],
   "source": [
    "# Complete the following code\n",
    "\n",
    "def build_model_with_regularization(n_input, n_output, activation, loss):\n",
    "    \"\"\"\n",
    "    Creates and compiles a tf.keras Sequential model with two hidden layers\n",
    "    This time regularization has been added\n",
    "    \"\"\"\n",
    "    # create classifier\n",
    "    classifier = Sequential(name=\"regularized\")\n",
    "\n",
    "    # add input layer\n",
    "    classifier.add(Dense(units=64, input_shape=(n_input,)))\n",
    "\n",
    "    # add hidden layers\n",
    "    classifier.add(Dense(units=64, kernel_regularizer=regularizers.L1L2(l1=1e2, l2=1e2), \n",
    "                        bias_regularizer=regularizers.L2(1e3),\n",
    "                        activity_regularizer=regularizers.L2(1e3)))\n",
    "    classifier.add(Dense(units=64, kernel_regularizer=regularizers.L1L2(l1=1e2, l2=1e2),\n",
    "                         bias_regularizer=regularizers.L2(1e3),\n",
    "                        activity_regularizer=regularizers.L2(1e3)))\n",
    "    # add output layer\n",
    "    classifier.add(Dense(units=n_output, activation=activation))\n",
    "\n",
    "    classifier.compile(optimizer='adam', loss=loss, metrics=['accuracy'])\n",
    "    return classifier\n",
    "\n",
    "model_with_regularization = build_model_with_regularization(\n",
    "    num_input_nodes, num_output_nodes, activation_function, loss\n",
    ")\n",
    "model_with_regularization.summary()"
   ]
  },
  {
   "cell_type": "code",
   "execution_count": 58,
   "metadata": {
    "ExecuteTime": {
     "end_time": "2020-11-04T16:48:47.310049Z",
     "start_time": "2020-11-04T16:48:47.265185Z"
    },
    "code_folding": [],
    "nbgrader": {
     "grade": true,
     "grade_id": "cell-45429cad9bc0ca12",
     "locked": true,
     "points": 1,
     "schema_version": 3,
     "solution": false,
     "task": false
    }
   },
   "outputs": [
    {
     "data": {
      "text/plain": [
       "1.0"
      ]
     },
     "execution_count": 58,
     "metadata": {},
     "output_type": "execute_result"
    }
   ],
   "source": [
    "# Run the code below without change\n",
    "\n",
    "# Testing function to build model\n",
    "assert type(model_with_regularization) == Sequential\n",
    "\n",
    "def check_regularization(model):\n",
    "    regularization_count = 0\n",
    "    for layer in model.get_config()['layers']:\n",
    "        \n",
    "        # Checking if kernel regularizer was specified\n",
    "        if 'kernel_regularizer' in layer['config']:\n",
    "            if layer['config'].get('kernel_regularizer'):\n",
    "                regularization_count += 1\n",
    "                \n",
    "        # Checking if layer is dropout layer\n",
    "        if layer[\"class_name\"] == \"Dropout\":\n",
    "            regularization_count += 1\n",
    "            \n",
    "    return regularization_count > 0\n",
    "    \n",
    "score = .3\n",
    "\n",
    "if check_regularization(model_with_regularization):\n",
    "    score += .7\n",
    "    \n",
    "score"
   ]
  },
  {
   "cell_type": "markdown",
   "metadata": {
    "nbgrader": {
     "grade": false,
     "grade_id": "cell-b13c2342c3515ca5",
     "locked": true,
     "schema_version": 3,
     "solution": false,
     "task": false
    }
   },
   "source": [
    "Now we'll evaluate the new model on the training set as well:"
   ]
  },
  {
   "cell_type": "code",
   "execution_count": 59,
   "metadata": {
    "nbgrader": {
     "grade": false,
     "grade_id": "cell-87e75ce032ca5468",
     "locked": true,
     "schema_version": 3,
     "solution": false,
     "task": false
    }
   },
   "outputs": [
    {
     "data": {
      "image/png": "[encoded data removed]",
      "text/plain": [
       "<Figure size 720x360 with 2 Axes>"
      ]
     },
     "metadata": {
      "needs_background": "light"
     },
     "output_type": "display_data"
    }
   ],
   "source": [
    "# Run this cell without changes\n",
    "\n",
    "# Fit the model to the training data, using a subset of the\n",
    "# training data as validation data\n",
    "reg_model_results = model_with_regularization.fit(\n",
    "    x=X_train,\n",
    "    y=y_train,\n",
    "    batch_size=None,\n",
    "    epochs=20,\n",
    "    verbose=0,\n",
    "    validation_split=0.4,\n",
    "    shuffle=False\n",
    ")\n",
    "\n",
    "plot_loss_and_accuracy(reg_model_results)"
   ]
  },
  {
   "cell_type": "markdown",
   "metadata": {
    "nbgrader": {
     "grade": false,
     "grade_id": "cell-cdcc2db42e9c92a2",
     "locked": true,
     "schema_version": 3,
     "solution": false,
     "task": false
    }
   },
   "source": [
    "(Whether or not your regularization made a difference will partially depend on how strong of regularization you applied, as well as some random elements of your current TensorFlow configuration.)\n",
    "\n",
    "Now we evaluate both models on the holdout set:"
   ]
  },
  {
   "cell_type": "code",
   "execution_count": 60,
   "metadata": {},
   "outputs": [
    {
     "data": {
      "image/png": "[encoded data removed]",
      "text/plain": [
       "<Figure size 720x360 with 2 Axes>"
      ]
     },
     "metadata": {
      "needs_background": "light"
     },
     "output_type": "display_data"
    }
   ],
   "source": [
    "# Run this cell without changes\n",
    "\n",
    "final_dense_model_results = dense_model.fit(\n",
    "    x=X_train,\n",
    "    y=y_train,\n",
    "    batch_size=None,\n",
    "    epochs=20,\n",
    "    verbose=0,\n",
    "    validation_data=(X_test, y_test),\n",
    "    shuffle=False\n",
    ")\n",
    "\n",
    "plot_loss_and_accuracy(final_dense_model_results, final=True)"
   ]
  },
  {
   "cell_type": "markdown",
   "metadata": {},
   "source": [
    "Plot the loss and accuracy your final regularized model."
   ]
  },
  {
   "cell_type": "code",
   "execution_count": 61,
   "metadata": {},
   "outputs": [
    {
     "data": {
      "image/png": "[encoded data removed]",
      "text/plain": [
       "<Figure size 720x360 with 2 Axes>"
      ]
     },
     "metadata": {
      "needs_background": "light"
     },
     "output_type": "display_data"
    }
   ],
   "source": [
    "# Replace None, as necessary\n",
    "\n",
    "final_reg_model_results = model_with_regularization.fit(\n",
    "    x=X_train,\n",
    "    y=y_train,\n",
    "    batch_size=None,\n",
    "    epochs=20,\n",
    "    verbose=0,\n",
    "    validation_data=(X_test, y_test),\n",
    "    shuffle=False\n",
    ")\n",
    "\n",
    "plot_loss_and_accuracy(final_reg_model_results, final=True)"
   ]
  },
  {
   "cell_type": "code",
   "execution_count": null,
   "metadata": {},
   "outputs": [],
   "source": []
  }
 ],
 "metadata": {
  "celltoolbar": "Create Assignment",
  "kernelspec": {
   "display_name": "Python 3",
   "language": "python",
   "name": "python3"
  },
  "language_info": {
   "codemirror_mode": {
    "name": "ipython",
    "version": 3
   },
   "file_extension": ".py",
   "mimetype": "text/x-python",
   "name": "python",
   "nbconvert_exporter": "python",
   "pygments_lexer": "ipython3",
   "version": "3.8.5"
  },
  "toc": {
   "base_numbering": 1,
   "nav_menu": {},
   "number_sections": false,
   "sideBar": true,
   "skip_h1_title": true,
   "title_cell": "Table of Contents",
   "title_sidebar": "Contents",
   "toc_cell": false,
   "toc_position": {},
   "toc_section_display": true,
   "toc_window_display": false
  },
  "varInspector": {
   "cols": {
    "lenName": 16,
    "lenType": 16,
    "lenVar": 40
   },
   "kernels_config": {
    "python": {
     "delete_cmd_postfix": "",
     "delete_cmd_prefix": "del ",
     "library": "var_list.py",
     "varRefreshCmd": "print(var_dic_list())"
    },
    "r": {
     "delete_cmd_postfix": ") ",
     "delete_cmd_prefix": "rm(",
     "library": "var_list.r",
     "varRefreshCmd": "cat(var_dic_list()) "
    }
   },
   "types_to_exclude": [
    "module",
    "function",
    "builtin_function_or_method",
    "instance",
    "_Feature"
   ],
   "window_display": false
  }
 },
 "nbformat": 4,
 "nbformat_minor": 4
}
